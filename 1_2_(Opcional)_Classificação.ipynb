{
  "cells": [
    {
      "cell_type": "markdown",
      "metadata": {
        "id": "view-in-github",
        "colab_type": "text"
      },
      "source": [
        "<a href=\"https://colab.research.google.com/github/kartulle/Codigo-QR/blob/main/1_2_(Opcional)_Classifica%C3%A7%C3%A3o.ipynb\" target=\"_parent\"><img src=\"https://colab.research.google.com/assets/colab-badge.svg\" alt=\"Open In Colab\"/></a>"
      ]
    },
    {
      "cell_type": "markdown",
      "id": "befbf3d0",
      "metadata": {
        "id": "befbf3d0"
      },
      "source": [
        "\n",
        "# 🐱🐶 Classificação de Imagens (Cats vs Dogs) com PyTorch — **Notebook de Referência**\n",
        "**Objetivo:** treinar um classificador binário (gato vs. cachorro) usando **`torchvision.datasets.OxfordIIITPet`**, que já está disponível para *download automático*.\n",
        "\n",
        "**Como usar:**\n",
        "- As únicas linhas que serão avaliadas pelos instrutores estão entre `### Inicie seu código aqui ###` e `### Termine seu código aqui ###`.\n",
        "- Cada participante pode adicionar células em qualquer ponto do _notebook_ para fins de experimentação da forma mais conveniente possível.\n",
        "- Há *sanity checks* ao longo do notebook para verificar se cada etapa está correta.\n",
        "- O caminho de resolução está guiado: baixar dados → preparar *DataLoaders* → definir modelo → treinar → avaliar.\n"
      ]
    },
    {
      "cell_type": "markdown",
      "id": "57f3b65c",
      "metadata": {
        "id": "57f3b65c"
      },
      "source": [
        "\n",
        "## 1. Ambiente e versões\n",
        "Se estiver no Google Colab, certifique-se de que a GPU está habilitada em **Runtime → Change runtime type → GPU**.\n"
      ]
    },
    {
      "cell_type": "code",
      "execution_count": null,
      "id": "92bdd06b",
      "metadata": {
        "id": "92bdd06b"
      },
      "outputs": [],
      "source": [
        "\n",
        "# Versões principais (apenas para log)\n",
        "import torch, torchvision, sys\n",
        "print(\"Python:\", sys.version)\n",
        "print(\"PyTorch:\", torch.__version__)\n",
        "print(\"Torchvision:\", torchvision.__version__)\n",
        "\n",
        "# Verificação de GPU\n",
        "device = torch.device(\"cuda\" if torch.cuda.is_available() else \"cpu\")\n",
        "print(\"Device:\", device)\n",
        "assert device.type in [\"cuda\", \"cpu\"]\n"
      ]
    },
    {
      "cell_type": "markdown",
      "id": "113c98f4",
      "metadata": {
        "id": "113c98f4"
      },
      "source": [
        "\n",
        "## 2. Imports, semente aleatória e utilitários\n"
      ]
    },
    {
      "cell_type": "code",
      "execution_count": null,
      "id": "6b5b2917",
      "metadata": {
        "id": "6b5b2917"
      },
      "outputs": [],
      "source": [
        "\n",
        "import os, random, math, time\n",
        "from dataclasses import dataclass\n",
        "import torch\n",
        "from torch import nn\n",
        "from torch.utils.data import DataLoader, random_split, Subset\n",
        "import torchvision\n",
        "from torchvision import transforms\n",
        "from torchvision.datasets import OxfordIIITPet\n",
        "import numpy as np\n",
        "\n",
        "# Reprodutibilidade\n",
        "def set_seed(seed: int = 42):\n",
        "    random.seed(seed)\n",
        "    np.random.seed(seed)\n",
        "    torch.manual_seed(seed)\n",
        "    torch.cuda.manual_seed_all(seed)\n",
        "    torch.backends.cudnn.deterministic = True\n",
        "    torch.backends.cudnn.benchmark = False\n",
        "\n",
        "set_seed(42)\n",
        "\n",
        "# Sanity-check helper\n",
        "def assert_true(condition, msg_ok=\"OK\", msg_fail=\"Falhou\"):\n",
        "    if condition:\n",
        "        print(\"✅\", msg_ok)\n",
        "    else:\n",
        "        raise AssertionError(\"❌ \" + msg_fail)\n"
      ]
    },
    {
      "cell_type": "markdown",
      "id": "129bdc48",
      "metadata": {
        "id": "129bdc48"
      },
      "source": [
        "\n",
        "## 3. Hiperparâmetros (edite aqui se desejar)\n"
      ]
    },
    {
      "cell_type": "code",
      "execution_count": null,
      "id": "4a272dfd",
      "metadata": {
        "id": "4a272dfd"
      },
      "outputs": [],
      "source": [
        "\n",
        "# Hiperparâmetros principais\n",
        "BATCH_SIZE = 32\n",
        "LR = 1e-3\n",
        "EPOCHS = 3\n",
        "IMG_SIZE = 224\n",
        "VAL_SPLIT = 0.2\n",
        "NUM_WORKERS = 2 if torch.get_num_threads() > 1 else 0\n",
        "\n",
        "# (Opcional) Subamostragem para testes rápidos: use None para dataset completo\n",
        "TRAIN_MAX_SAMPLES = None   # e.g., 200 para rodar mais rápido\n",
        "VAL_MAX_SAMPLES   = None\n",
        "\n",
        "print(f\"BATCH_SIZE={BATCH_SIZE}, LR={LR}, EPOCHS={EPOCHS}, IMG_SIZE={IMG_SIZE}\")\n"
      ]
    },
    {
      "cell_type": "markdown",
      "id": "d00848d9",
      "metadata": {
        "id": "d00848d9"
      },
      "source": [
        "\n",
        "## 4. Dados — Oxford-IIIT Pet (*species*: **gato** ou **cachorro**)\n",
        "Usaremos o `torchvision.datasets.OxfordIIITPet` e mapearemos o *target* **species** para binário: `0 = cat`, `1 = dog`.\n",
        "\n",
        "**Por que esse dataset?** Porque é público, conhecido e pode ser baixado com `download=True` diretamente do PyTorch, evitando etapas externas.\n"
      ]
    },
    {
      "cell_type": "code",
      "execution_count": null,
      "id": "9c8a406a",
      "metadata": {
        "id": "9c8a406a"
      },
      "outputs": [],
      "source": [
        "\n",
        "from functools import partial\n",
        "\n",
        "# Transforms para treino/val\n",
        "train_tfms = transforms.Compose([\n",
        "    transforms.Resize((IMG_SIZE, IMG_SIZE)),\n",
        "    transforms.RandomHorizontalFlip(p=0.5),\n",
        "    transforms.ToTensor(),\n",
        "    transforms.Normalize(mean=[0.485, 0.456, 0.406],\n",
        "                         std=[0.229, 0.224, 0.225]),\n",
        "])\n",
        "\n",
        "val_tfms = transforms.Compose([\n",
        "    transforms.Resize((IMG_SIZE, IMG_SIZE)),\n",
        "    transforms.ToTensor(),\n",
        "    transforms.Normalize(mean=[0.485, 0.456, 0.406],\n",
        "                         std=[0.229, 0.224, 0.225]),\n",
        "])\n",
        "\n",
        "# target_types='species' retorna espécie (cat/dog). Vamos garantir 0/1.\n",
        "def species_to_binary(target):\n",
        "    # Em versões atuais do torchvision, species já é 0 (cat) ou 1 (dog).\n",
        "    # Ainda assim, protegemos caso venha em outro formato.\n",
        "    if isinstance(target, (list, tuple)):\n",
        "        target = target[0]\n",
        "    if isinstance(target, torch.Tensor):\n",
        "        target = target.item()\n",
        "    # Normaliza para {0,1}\n",
        "    if target in (0, 1):\n",
        "        return int(target)\n",
        "    # Fallback: mapeia 1->0 (cat), 2->1 (dog) se vier em {1,2}\n",
        "    if target in (1, 2):\n",
        "        return int(target - 1)\n",
        "    raise ValueError(f\"Target species inesperado: {target}\")\n",
        "\n",
        "root = \"/mnt/data/oxford-iiit-pet\"\n",
        "os.makedirs(root, exist_ok=True)\n",
        "\n",
        "trainval_ds = OxfordIIITPet(\n",
        "    root=root,\n",
        "    split=\"trainval\",\n",
        "    target_types=\"binary-category\",\n",
        "    transform=train_tfms,\n",
        "    target_transform=species_to_binary,\n",
        "    download=True,\n",
        ")\n",
        "\n",
        "test_ds = OxfordIIITPet(\n",
        "    root=root,\n",
        "    split=\"test\",\n",
        "    target_types=\"binary-category\",\n",
        "    transform=val_tfms,\n",
        "    target_transform=species_to_binary,\n",
        "    download=True,\n",
        ")\n",
        "\n",
        "print(\"Tamanho (trainval):\", len(trainval_ds), \"| Tamanho (test):\", len(test_ds))\n",
        "\n",
        "# Sanity check: rótulos binários\n",
        "ys = [trainval_ds[i][1] for i in range(min(1000, len(trainval_ds)))]\n",
        "u = sorted(set(ys))\n",
        "print(\"Valores únicos (amostra):\", u)\n",
        "assert_true(set(u).issubset({0,1}), \"Targets binários (0=cat,1=dog) confirmados.\", \"Targets não são binários.\")\n"
      ]
    },
    {
      "cell_type": "markdown",
      "id": "07484a46",
      "metadata": {
        "id": "07484a46"
      },
      "source": [
        "\n",
        "## 5. *Split* Treino/Validação e *DataLoaders*\n",
        "Complete as linhas marcadas para criar `train_ds`, `val_ds` e os respectivos `DataLoader`s.\n"
      ]
    },
    {
      "cell_type": "code",
      "execution_count": null,
      "id": "1cd1dd65",
      "metadata": {
        "id": "1cd1dd65"
      },
      "outputs": [],
      "source": [
        "\n",
        "N = len(trainval_ds)\n",
        "n_val = int(N * VAL_SPLIT)\n",
        "n_train = N - n_val\n",
        "\n",
        "### Inicie seu código aqui ###\n",
        "# 1) Faça o split aleatório (com seed fixo para reprodutibilidade)\n",
        "\n",
        "# 2) (Opcional) Subamostre para rodar mais rápido\n",
        "\n",
        "# 3) Crie os DataLoaders de treino e validação\n",
        "\n",
        "### Termine seu código aqui ###\n",
        "\n",
        "# Sanity checks\n",
        "xb, yb = next(iter(train_loader))\n",
        "print(\"Batch shape:\", xb.shape, yb.shape, \"| dtype:\", xb.dtype, yb.dtype)\n",
        "assert_true(xb.shape[1] == 3 and xb.shape[-1] == IMG_SIZE, \"Shapes ok para imagens RGB redimensionadas.\", \"Shapes inesperados.\")\n",
        "assert_true(set(yb.unique().tolist()).issubset({0,1}), \"Rótulos no batch são binários.\", \"Rótulos inválidos no batch.\")\n"
      ]
    },
    {
      "cell_type": "markdown",
      "id": "f1e449e5",
      "metadata": {
        "id": "f1e449e5"
      },
      "source": [
        "\n",
        "## 6. Modelo: **ResNet18** com *fine-tuning* leve\n",
        "Usaremos uma `resnet18` pré-treinada no ImageNet e trocaremos a camada final para **2** classes.\n"
      ]
    },
    {
      "cell_type": "code",
      "execution_count": null,
      "id": "b90e6e23",
      "metadata": {
        "id": "b90e6e23"
      },
      "outputs": [],
      "source": [
        "\n",
        "from torchvision.models import resnet18, ResNet18_Weights\n",
        "\n",
        "### Inicie seu código aqui ###\n",
        "\n",
        "### Termine seu código aqui ###\n",
        "\n",
        "# Sanity check: passada direta num batch\n",
        "model.eval()\n",
        "with torch.no_grad():\n",
        "    out = model(xb.to(device))\n",
        "print(\"Saída do modelo:\", out.shape)\n",
        "assert_true(out.shape[-1] == 2, \"Camada final com 2 neurônios confirmada.\", \"Camada final não tem 2 saídas.\")\n"
      ]
    },
    {
      "cell_type": "markdown",
      "id": "650196c1",
      "metadata": {
        "id": "650196c1"
      },
      "source": [
        "\n",
        "## 7. Otimizador, Loss e Métricas\n"
      ]
    },
    {
      "cell_type": "code",
      "execution_count": null,
      "id": "64de5f6d",
      "metadata": {
        "id": "64de5f6d"
      },
      "outputs": [],
      "source": [
        "\n",
        "### Inicie seu código aqui ###\n",
        "\n",
        "### Termine seu código aqui ###\n",
        "\n",
        "def accuracy_from_logits(logits, targets):\n",
        "    preds = logits.argmax(dim=1)\n",
        "    return (preds == targets).float().mean().item()\n"
      ]
    },
    {
      "cell_type": "markdown",
      "id": "0df722e8",
      "metadata": {
        "id": "0df722e8"
      },
      "source": [
        "\n",
        "## 8. Loop de Treino/Validação\n",
        "Preencha os trechos pedidos para completar uma época de treino e validação.\n"
      ]
    },
    {
      "cell_type": "code",
      "execution_count": null,
      "id": "f4d03d6b",
      "metadata": {
        "id": "f4d03d6b"
      },
      "outputs": [],
      "source": [
        "\n",
        "def run_epoch(model, loader, optimizer=None):\n",
        "    is_train = optimizer is not None\n",
        "    model.train(is_train)\n",
        "    total_loss, total_acc, total_count = 0.0, 0.0, 0\n",
        "\n",
        "    for xb, yb in loader:\n",
        "        xb, yb = xb.to(device), yb.to(device)\n",
        "        if is_train:\n",
        "            optimizer.zero_grad()\n",
        "        logits = model(xb)\n",
        "        loss = criterion(logits, yb)\n",
        "        if is_train:\n",
        "            ### Inicie seu código aqui ###\n",
        "\n",
        "            ### Termine seu código aqui ###\n",
        "        with torch.no_grad():\n",
        "            acc = accuracy_from_logits(logits, yb)\n",
        "        bs = xb.size(0)\n",
        "        total_loss += loss.item() * bs\n",
        "        total_acc  += acc * bs\n",
        "        total_count += bs\n",
        "    return total_loss / total_count, total_acc / total_count\n",
        "\n",
        "history = {\"train_loss\": [], \"train_acc\": [], \"val_loss\": [], \"val_acc\": []}\n",
        "\n",
        "best_val_acc = 0.0\n",
        "start = time.time()\n",
        "for epoch in range(1, 10):\n",
        "    tr_loss, tr_acc = run_epoch(model, train_loader, optimizer)\n",
        "    vl_loss, vl_acc = run_epoch(model, val_loader, optimizer=None)\n",
        "\n",
        "    history[\"train_loss\"].append(tr_loss)\n",
        "    history[\"train_acc\"].append(tr_acc)\n",
        "    history[\"val_loss\"].append(vl_loss)\n",
        "    history[\"val_acc\"].append(vl_acc)\n",
        "\n",
        "    print(f\"[{epoch:02d}/{EPOCHS}] train_loss={tr_loss:.4f} | train_acc={tr_acc*100:.1f}%  || val_loss={vl_loss:.4f} | val_acc={vl_acc*100:.1f}%\")\n",
        "\n",
        "end = time.time()\n",
        "print(f\"Tempo total: {end-start:.1f}s\")\n",
        "\n",
        "# Sanity check: perda não explode e acurácia > 50% (mínimo razoável)\n",
        "assert_true(np.isfinite(history['train_loss'][-1]), \"Treino concluído com perdas finitas.\", \"Perda não finita.\")\n",
        "assert_true(history['val_acc'][-1] >= 0.5, \"Acurácia de validação ≥ 50% atingida.\", \"Acurácia abaixo de 50%. Revise hiperparâmetros/execução.\")\n"
      ]
    },
    {
      "cell_type": "markdown",
      "id": "ae820c3b",
      "metadata": {
        "id": "ae820c3b"
      },
      "source": [
        "\n",
        "## 9. Curvas de Treino/Validação\n"
      ]
    },
    {
      "cell_type": "code",
      "execution_count": null,
      "id": "fed77f81",
      "metadata": {
        "id": "fed77f81"
      },
      "outputs": [],
      "source": [
        "\n",
        "import matplotlib.pyplot as plt\n",
        "\n",
        "# Perda\n",
        "plt.figure()\n",
        "plt.plot(history[\"train_loss\"], label=\"train_loss\")\n",
        "plt.plot(history[\"val_loss\"], label=\"val_loss\")\n",
        "plt.xlabel(\"Época\"); plt.ylabel(\"Perda\"); plt.title(\"Curva de Perda\"); plt.legend(); plt.show()\n",
        "\n",
        "# Acurácia\n",
        "plt.figure()\n",
        "plt.plot(history[\"train_acc\"], label=\"train_acc\")\n",
        "plt.plot(history[\"val_acc\"], label=\"val_acc\")\n",
        "plt.xlabel(\"Época\"); plt.ylabel(\"Acurácia\"); plt.title(\"Curva de Acurácia\"); plt.legend(); plt.show()\n"
      ]
    },
    {
      "cell_type": "markdown",
      "id": "95086f4a",
      "metadata": {
        "id": "95086f4a"
      },
      "source": [
        "\n",
        "## 10. Avaliação no *Test Set*\n"
      ]
    },
    {
      "cell_type": "code",
      "execution_count": null,
      "id": "ff7cd201",
      "metadata": {
        "id": "ff7cd201"
      },
      "outputs": [],
      "source": [
        "\n",
        "test_loader = DataLoader(test_ds, batch_size=BATCH_SIZE, shuffle=False, num_workers=NUM_WORKERS, pin_memory=True)\n",
        "\n",
        "test_loss, test_acc = run_epoch(model, test_loader, optimizer=None)\n",
        "print(f\"Teste — loss={test_loss:.4f} | acc={test_acc*100:.1f}%\")\n",
        "\n",
        "# Sanity check final\n",
        "assert_true(test_acc >= 0.5, \"Acurácia de teste ≥ 50% (baseline) atingida.\", \"Acurácia de teste abaixo do baseline.\")\n"
      ]
    },
    {
      "cell_type": "markdown",
      "id": "b326977f",
      "metadata": {
        "id": "b326977f"
      },
      "source": [
        "\n",
        "## 11. Amostras de Predição\n"
      ]
    },
    {
      "cell_type": "code",
      "execution_count": null,
      "id": "6acf7e9b",
      "metadata": {
        "id": "6acf7e9b"
      },
      "outputs": [],
      "source": [
        "\n",
        "idxs = np.random.choice(len(test_ds), size=min(8, len(test_ds)), replace=False)\n",
        "model.eval()\n",
        "inv_norm = transforms.Normalize(\n",
        "    mean=[-0.485/0.229, -0.456/0.224, -0.406/0.225],\n",
        "    std=[1/0.229, 1/0.224, 1/0.225]\n",
        ")\n",
        "\n",
        "class_names = [\"cat\", \"dog\"]\n",
        "\n",
        "plt.figure(figsize=(12, 6))\n",
        "for i, idx in enumerate(idxs, 1):\n",
        "    img, y = test_ds[idx]\n",
        "    with torch.no_grad():\n",
        "        logits = model(img.unsqueeze(0).to(device))\n",
        "        pred = logits.argmax(dim=1).item()\n",
        "\n",
        "    img_viz = inv_norm(img).clamp(0,1).permute(1,2,0).cpu().numpy()\n",
        "    plt.subplot(2, 4, i)\n",
        "    plt.imshow(img_viz)\n",
        "    plt.axis(\"off\")\n",
        "    title = f\"GT: {class_names[y]} | Pred: {class_names[pred]}\"\n",
        "    plt.title(title)\n",
        "plt.tight_layout(); plt.show()\n"
      ]
    },
    {
      "cell_type": "markdown",
      "id": "2c6449de",
      "metadata": {
        "id": "2c6449de"
      },
      "source": [
        "\n",
        "## 12. O que entregar\n",
        "- **Notebook executado** com todas as células, *sanity checks* passando e métricas reportadas.\n",
        "- Pontos de edição foram limitados às seções **claramente marcadas** para evitar ambiguidade.\n",
        "- (Opcional) Compare resultados ao alterar `BATCH_SIZE`, `LR`, `EPOCHS` e registre observações.\n"
      ]
    }
  ],
  "metadata": {
    "colab": {
      "provenance": [],
      "gpuType": "T4",
      "include_colab_link": true
    },
    "accelerator": "GPU",
    "language_info": {
      "name": "python"
    },
    "kernelspec": {
      "name": "python3",
      "display_name": "Python 3"
    }
  },
  "nbformat": 4,
  "nbformat_minor": 5
}